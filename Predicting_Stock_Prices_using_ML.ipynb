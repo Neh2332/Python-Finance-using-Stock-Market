{
  "nbformat": 4,
  "nbformat_minor": 0,
  "metadata": {
    "colab": {
      "provenance": [],
      "authorship_tag": "ABX9TyN9wwVIQBv2a/jJ0xixVo1Z",
      "include_colab_link": true
    },
    "kernelspec": {
      "name": "python3",
      "display_name": "Python 3"
    },
    "language_info": {
      "name": "python"
    }
  },
  "cells": [
    {
      "cell_type": "markdown",
      "metadata": {
        "id": "view-in-github",
        "colab_type": "text"
      },
      "source": [
        "<a href=\"https://colab.research.google.com/github/Neh2332/Python-Finance-using-Stock-Market/blob/main/Predicting_Stock_Prices_using_ML.ipynb\" target=\"_parent\"><img src=\"https://colab.research.google.com/assets/colab-badge.svg\" alt=\"Open In Colab\"/></a>"
      ]
    },
    {
      "cell_type": "code",
      "source": [
        "# imports\n",
        "!pip install yfinance\n",
        "import math\n",
        "import numpy as np\n",
        "import pandas as pd\n",
        "import yfinance as yfin\n",
        "import matplotlib.pyplot as plt\n",
        "import datetime as dt\n",
        "plt.style.use('ggplot')\n",
        "from pandas_datareader import data as pdr\n",
        "from sklearn.preprocessing import MinMaxScaler\n",
        "from keras.models import Sequential\n",
        "from keras.layers import Dense, LSTM\n",
        "yfin.pdr_override()"
      ],
      "metadata": {
        "id": "VjbBYq3cxWQE",
        "colab": {
          "base_uri": "https://localhost:8080/"
        },
        "outputId": "ce3724fc-52f8-40b1-97bd-df3dfd0f5209"
      },
      "execution_count": null,
      "outputs": [
        {
          "output_type": "stream",
          "name": "stdout",
          "text": [
            "Looking in indexes: https://pypi.org/simple, https://us-python.pkg.dev/colab-wheels/public/simple/\n",
            "Requirement already satisfied: yfinance in /usr/local/lib/python3.8/dist-packages (0.2.3)\n",
            "Requirement already satisfied: multitasking>=0.0.7 in /usr/local/lib/python3.8/dist-packages (from yfinance) (0.0.11)\n",
            "Requirement already satisfied: pytz>=2022.5 in /usr/local/lib/python3.8/dist-packages (from yfinance) (2022.7)\n",
            "Requirement already satisfied: html5lib>=1.1 in /usr/local/lib/python3.8/dist-packages (from yfinance) (1.1)\n",
            "Requirement already satisfied: beautifulsoup4>=4.11.1 in /usr/local/lib/python3.8/dist-packages (from yfinance) (4.11.1)\n",
            "Requirement already satisfied: cryptography>=3.3.2 in /usr/local/lib/python3.8/dist-packages (from yfinance) (39.0.0)\n",
            "Requirement already satisfied: frozendict>=2.3.4 in /usr/local/lib/python3.8/dist-packages (from yfinance) (2.3.4)\n",
            "Requirement already satisfied: lxml>=4.9.1 in /usr/local/lib/python3.8/dist-packages (from yfinance) (4.9.2)\n",
            "Requirement already satisfied: numpy>=1.16.5 in /usr/local/lib/python3.8/dist-packages (from yfinance) (1.21.6)\n",
            "Requirement already satisfied: appdirs>=1.4.4 in /usr/local/lib/python3.8/dist-packages (from yfinance) (1.4.4)\n",
            "Requirement already satisfied: requests>=2.26 in /usr/local/lib/python3.8/dist-packages (from yfinance) (2.28.1)\n",
            "Requirement already satisfied: pandas>=1.3.0 in /usr/local/lib/python3.8/dist-packages (from yfinance) (1.3.5)\n",
            "Requirement already satisfied: soupsieve>1.2 in /usr/local/lib/python3.8/dist-packages (from beautifulsoup4>=4.11.1->yfinance) (2.3.2.post1)\n",
            "Requirement already satisfied: cffi>=1.12 in /usr/local/lib/python3.8/dist-packages (from cryptography>=3.3.2->yfinance) (1.15.1)\n",
            "Requirement already satisfied: webencodings in /usr/local/lib/python3.8/dist-packages (from html5lib>=1.1->yfinance) (0.5.1)\n",
            "Requirement already satisfied: six>=1.9 in /usr/local/lib/python3.8/dist-packages (from html5lib>=1.1->yfinance) (1.15.0)\n",
            "Requirement already satisfied: python-dateutil>=2.7.3 in /usr/local/lib/python3.8/dist-packages (from pandas>=1.3.0->yfinance) (2.8.2)\n",
            "Requirement already satisfied: charset-normalizer<3,>=2 in /usr/local/lib/python3.8/dist-packages (from requests>=2.26->yfinance) (2.1.1)\n",
            "Requirement already satisfied: idna<4,>=2.5 in /usr/local/lib/python3.8/dist-packages (from requests>=2.26->yfinance) (2.10)\n",
            "Requirement already satisfied: urllib3<1.27,>=1.21.1 in /usr/local/lib/python3.8/dist-packages (from requests>=2.26->yfinance) (1.24.3)\n",
            "Requirement already satisfied: certifi>=2017.4.17 in /usr/local/lib/python3.8/dist-packages (from requests>=2.26->yfinance) (2022.12.7)\n",
            "Requirement already satisfied: pycparser in /usr/local/lib/python3.8/dist-packages (from cffi>=1.12->cryptography>=3.3.2->yfinance) (2.21)\n"
          ]
        }
      ]
    },
    {
      "cell_type": "code",
      "source": [
        "# load the data from Yahoo Finance\n",
        "start = dt.datetime(2022,1,1)\n",
        "end = dt.datetime(2023,1,16)\n",
        "#Dataframe web reader of the ticker\n",
        "df = pdr.get_data_yahoo('BMO', start, end)\n"
      ],
      "metadata": {
        "colab": {
          "base_uri": "https://localhost:8080/"
        },
        "id": "wiNm39I54deB",
        "outputId": "6ddba7a7-f4f6-4db8-9d23-94390f551fe3"
      },
      "execution_count": null,
      "outputs": [
        {
          "output_type": "stream",
          "name": "stdout",
          "text": [
            "\r[*********************100%***********************]  1 of 1 completed\n"
          ]
        }
      ]
    },
    {
      "cell_type": "code",
      "source": [
        "# select the 'Adj Close' column as the target variable\n",
        "data = df.filter(['Adj Close'])\n",
        "\n",
        "# convert the dataframe to a numpy array\n",
        "dataset = data.values\n",
        "\n",
        "# normalize the data using the MinMaxScaler\n",
        "scaler = MinMaxScaler(feature_range=(0, 1))\n",
        "scaled_data = scaler.fit_transform(dataset)"
      ],
      "metadata": {
        "id": "NpG51Z_S4g3G"
      },
      "execution_count": null,
      "outputs": []
    },
    {
      "cell_type": "code",
      "source": [
        "# split the data into training and test sets\n",
        "training_data_len = int(len(scaled_data) * 0.8)\n",
        "train_data = scaled_data[0:training_data_len, :]"
      ],
      "metadata": {
        "id": "5pFLqEY-4kfF"
      },
      "execution_count": null,
      "outputs": []
    },
    {
      "cell_type": "code",
      "source": [
        "# create the training dataset\n",
        "# use the previous 60 days' closing prices to predict\n",
        "\n",
        "x_train = []\n",
        "y_train = []\n",
        "for i in range(60, len(train_data)):\n",
        "  x_train.append(train_data[i-60:i, 0])\n",
        "  y_train.append(train_data[i, 0])\n",
        "  if i <= 60:\n",
        "    print(x_train)\n",
        "    print(y_train)\n",
        "    print()\n",
        "\n",
        "x_train, y_train = np.array(x_train), np.array(y_train)\n",
        "x_train = np.reshape(x_train, (x_train.shape[0], x_train.shape[1], 1))"
      ],
      "metadata": {
        "colab": {
          "base_uri": "https://localhost:8080/"
        },
        "id": "87rchJ_04nBL",
        "outputId": "a874022a-8e63-4da3-89fa-86bf97e8e383"
      },
      "execution_count": null,
      "outputs": [
        {
          "output_type": "stream",
          "name": "stdout",
          "text": [
            "[array([0.61308006, 0.66586099, 0.63270728, 0.67912277, 0.72686439,\n",
            "       0.718377  , 0.78309338, 0.82446956, 0.85231903, 0.85550174,\n",
            "       0.86902845, 0.83375257, 0.81279945, 0.74887869, 0.70670689,\n",
            "       0.75657045, 0.78521534, 0.73906519, 0.72368146, 0.75478825,\n",
            "       0.79761995, 0.85999372, 0.84286108, 0.83670388, 0.85785216,\n",
            "       0.89024355, 0.9108565 , 0.91487215, 0.88836966, 0.85356927,\n",
            "       0.86909547, 0.88194522, 0.82117767, 0.79815571, 0.7954784 ,\n",
            "       0.75639426, 0.70151645, 0.78691197, 0.77406265, 0.76121291,\n",
            "       0.85410439, 0.84419963, 0.80110026, 0.69857169, 0.69509137,\n",
            "       0.80083259, 0.79815571, 0.81662647, 0.83054709, 0.83911352,\n",
            "       0.92076126, 0.94592499, 0.97108871, 0.97430115, 1.        ,\n",
            "       0.87739423, 0.90496718, 0.93093391, 0.91808438, 0.9178165 ])]\n",
            "[0.9033609593214473]\n",
            "\n"
          ]
        }
      ]
    },
    {
      "cell_type": "code",
      "source": [
        "model = Sequential()\n",
        "model.add(LSTM(500, return_sequences=True, input_shape=(x_train.shape[1], 1)))\n",
        "model.add(LSTM(500, return_sequences=False))\n",
        "model.add(Dense(250))\n",
        "model.add(Dense(1))\n",
        "model.compile(optimizer='adam', loss='mean_squared_error')\n",
        "model.fit(x_train, y_train, batch_size=1, epochs=5)"
      ],
      "metadata": {
        "colab": {
          "base_uri": "https://localhost:8080/"
        },
        "id": "3RrspDV54uP3",
        "outputId": "8bd03d1a-18d8-46d9-9b8d-c90a1bd9f99a"
      },
      "execution_count": null,
      "outputs": [
        {
          "output_type": "stream",
          "name": "stdout",
          "text": [
            "Epoch 1/5\n",
            "145/145 [==============================] - 62s 405ms/step - loss: 0.0173\n",
            "Epoch 2/5\n",
            "145/145 [==============================] - 59s 408ms/step - loss: 0.0075\n",
            "Epoch 3/5\n",
            "145/145 [==============================] - 61s 422ms/step - loss: 0.0048\n",
            "Epoch 4/5\n",
            "145/145 [==============================] - 58s 403ms/step - loss: 0.0038\n",
            "Epoch 5/5\n",
            "145/145 [==============================] - 58s 401ms/step - loss: 0.0033\n"
          ]
        },
        {
          "output_type": "execute_result",
          "data": {
            "text/plain": [
              "<keras.callbacks.History at 0x7f21cbc31fa0>"
            ]
          },
          "metadata": {},
          "execution_count": 21
        }
      ]
    },
    {
      "cell_type": "code",
      "source": [
        "#Create the Testing Dataset\n",
        "#Create a new array containing scaled values from 141 to 251\n",
        "test_data = scaled_data[training_data_len - 60:, :]\n",
        "#Create the datasets x_test and y_test\n",
        "x_test = []\n",
        "y_test = dataset[training_data_len:, :]\n",
        "\n",
        "for i in range(60, len(test_data)):\n",
        "  x_test.append(test_data[i-60:i, 0])\n",
        "  "
      ],
      "metadata": {
        "id": "_FqJoBwh4z_3"
      },
      "execution_count": null,
      "outputs": []
    },
    {
      "cell_type": "code",
      "source": [
        "#Convert the data to a numpy array\n",
        "\n",
        "x_test = np.array(x_test)"
      ],
      "metadata": {
        "id": "-71XqZIG8eHq"
      },
      "execution_count": null,
      "outputs": []
    },
    {
      "cell_type": "code",
      "source": [
        "#Reshape x test\n",
        "x_test = np.reshape(x_test, (x_test.shape[0], x_test.shape[1], 1))\n"
      ],
      "metadata": {
        "id": "5p5eHAkJ8qgt"
      },
      "execution_count": null,
      "outputs": []
    },
    {
      "cell_type": "code",
      "source": [
        "#Get the model predicted price values\n",
        "\n",
        "predictions = model.predict(x_test)\n",
        "predictions = scaler.inverse_transform(predictions)"
      ],
      "metadata": {
        "colab": {
          "base_uri": "https://localhost:8080/"
        },
        "id": "qH0bONjF89Fm",
        "outputId": "fd9eef2a-2edc-4c10-d1e8-378e3d08f481"
      },
      "execution_count": null,
      "outputs": [
        {
          "output_type": "stream",
          "name": "stdout",
          "text": [
            "2/2 [==============================] - 2s 282ms/step\n"
          ]
        }
      ]
    },
    {
      "cell_type": "code",
      "source": [
        "rmse = np.sqrt(np.mean((predictions - y_test)**2))\n",
        "print('RMSE:', rmse)"
      ],
      "metadata": {
        "colab": {
          "base_uri": "https://localhost:8080/"
        },
        "id": "mB8QmE-o9hK9",
        "outputId": "2da23e1f-d0a7-43f4-e607-2a994b687921"
      },
      "execution_count": null,
      "outputs": [
        {
          "output_type": "stream",
          "name": "stdout",
          "text": [
            "RMSE: 2.049480321754814\n"
          ]
        }
      ]
    },
    {
      "cell_type": "code",
      "source": [
        "#plot the data\n",
        "\n",
        "train = data[:training_data_len]\n",
        "valid = data[training_data_len:]\n",
        "valid['Predictions'] = predictions\n",
        "#Visualize\n",
        "plt.figure(figsize=(15,6))\n",
        "plt.title('Model')\n",
        "plt.xlabel('Date')\n",
        "plt.ylabel('Adj Closing Price')\n",
        "plt.plot(train['Adj Close'])\n",
        "plt.plot(valid[['Adj Close', 'Predictions']])\n",
        "plt.legend(['Train', 'Real', 'Predicitons'], loc='lower right')\n",
        "plt.show()"
      ],
      "metadata": {
        "colab": {
          "base_uri": "https://localhost:8080/",
          "height": 512
        },
        "id": "ouEfr2ig9jEA",
        "outputId": "edddbc43-a257-41ce-c6d0-4636ffcd2f85"
      },
      "execution_count": null,
      "outputs": [
        {
          "output_type": "stream",
          "name": "stderr",
          "text": [
            "<ipython-input-29-9d5043e8cc73>:5: SettingWithCopyWarning: \n",
            "A value is trying to be set on a copy of a slice from a DataFrame.\n",
            "Try using .loc[row_indexer,col_indexer] = value instead\n",
            "\n",
            "See the caveats in the documentation: https://pandas.pydata.org/pandas-docs/stable/user_guide/indexing.html#returning-a-view-versus-a-copy\n",
            "  valid['Predictions'] = predictions\n"
          ]
        },
        {
          "output_type": "display_data",
          "data": {
            "text/plain": [
              "<Figure size 1080x432 with 1 Axes>"
            ],
            "image/png": "[encoded data removed]"
          },
          "metadata": {}
        }
      ]
    },
    {
      "cell_type": "code",
      "source": [
        "valid"
      ],
      "metadata": {
        "colab": {
          "base_uri": "https://localhost:8080/",
          "height": 1000
        },
        "id": "YXy9hvD8-XLI",
        "outputId": "a9615728-3d0f-4912-85fe-ad0fd303382d"
      },
      "execution_count": null,
      "outputs": [
        {
          "output_type": "execute_result",
          "data": {
            "text/plain": [
              "             Adj Close  Predictions\n",
              "Date                               \n",
              "2022-10-26   91.918556    89.696671\n",
              "2022-10-27   92.185616    90.955803\n",
              "2022-10-28   92.877998    91.288254\n",
              "2022-10-31   92.080002    91.717560\n",
              "2022-11-01   91.949997    91.095596\n",
              "2022-11-02   91.110001    90.776138\n",
              "2022-11-03   90.529999    90.097710\n",
              "2022-11-04   94.169998    89.552391\n",
              "2022-11-07   94.690002    92.372200\n",
              "2022-11-08   95.690002    93.535599\n",
              "2022-11-09   93.610001    94.337097\n",
              "2022-11-10   98.629997    92.690269\n",
              "2022-11-11  100.160004    96.092751\n",
              "2022-11-14   99.279999    98.168617\n",
              "2022-11-15   99.610001    97.616646\n",
              "2022-11-16   98.849998    97.450104\n",
              "2022-11-17   98.440002    96.762024\n",
              "2022-11-18   98.790001    96.290390\n",
              "2022-11-21   97.419998    96.552505\n",
              "2022-11-22   98.709999    95.632874\n",
              "2022-11-23   99.379997    96.473808\n",
              "2022-11-25   99.330002    97.306351\n",
              "2022-11-28   96.320000    97.410393\n",
              "2022-11-29   96.099998    94.972801\n",
              "2022-11-30   97.830002    94.216957\n",
              "2022-12-01   99.019997    95.637627\n",
              "2022-12-02   99.839996    97.048866\n",
              "2022-12-05   97.839996    97.925919\n",
              "2022-12-06   94.550003    96.370987\n",
              "2022-12-07   94.160004    93.290222\n",
              "2022-12-08   92.559998    92.390610\n",
              "2022-12-09   92.430000    91.282181\n",
              "2022-12-12   91.820000    91.149437\n",
              "2022-12-13   90.660004    90.852196\n",
              "2022-12-14   90.190002    89.970161\n",
              "2022-12-15   88.349998    89.457817\n",
              "2022-12-16   88.040001    88.009140\n",
              "2022-12-19   87.940002    87.500641\n",
              "2022-12-20   89.389999    87.466370\n",
              "2022-12-21   90.519997    88.678322\n",
              "2022-12-22   89.489998    89.870171\n",
              "2022-12-23   90.300003    89.219940\n",
              "2022-12-27   90.730003    89.513672\n",
              "2022-12-28   89.629997    89.902306\n",
              "2022-12-29   91.190002    89.087105\n",
              "2022-12-30   90.599998    90.048981\n",
              "2023-01-03   91.040001    89.878242\n",
              "2023-01-04   93.629997    90.102692\n",
              "2023-01-05   92.790001    92.171364\n",
              "2023-01-06   95.129997    91.966423\n",
              "2023-01-09   95.400002    93.527397\n",
              "2023-01-10   95.089996    94.039902"
            ],
            "text/html": [
              "\n",
              "  <div id=\"df-a6993eb2-f56d-45e3-a2e5-d08ae625c002\">\n",
              "    <div class=\"colab-df-container\">\n",
              "      <div>\n",
              "<style scoped>\n",
              "    .dataframe tbody tr th:only-of-type {\n",
              "        vertical-align: middle;\n",
              "    }\n",
              "\n",
              "    .dataframe tbody tr th {\n",
              "        vertical-align: top;\n",
              "    }\n",
              "\n",
              "    .dataframe thead th {\n",
              "        text-align: right;\n",
              "    }\n",
              "</style>\n",
              "<table border=\"1\" class=\"dataframe\">\n",
              "  <thead>\n",
              "    <tr style=\"text-align: right;\">\n",
              "      <th></th>\n",
              "      <th>Adj Close</th>\n",
              "      <th>Predictions</th>\n",
              "    </tr>\n",
              "    <tr>\n",
              "      <th>Date</th>\n",
              "      <th></th>\n",
              "      <th></th>\n",
              "    </tr>\n",
              "  </thead>\n",
              "  <tbody>\n",
              "    <tr>\n",
              "      <th>2022-10-26</th>\n",
              "      <td>91.918556</td>\n",
              "      <td>89.696671</td>\n",
              "    </tr>\n",
              "    <tr>\n",
              "      <th>2022-10-27</th>\n",
              "      <td>92.185616</td>\n",
              "      <td>90.955803</td>\n",
              "    </tr>\n",
              "    <tr>\n",
              "      <th>2022-10-28</th>\n",
              "      <td>92.877998</td>\n",
              "      <td>91.288254</td>\n",
              "    </tr>\n",
              "    <tr>\n",
              "      <th>2022-10-31</th>\n",
              "      <td>92.080002</td>\n",
              "      <td>91.717560</td>\n",
              "    </tr>\n",
              "    <tr>\n",
              "      <th>2022-11-01</th>\n",
              "      <td>91.949997</td>\n",
              "      <td>91.095596</td>\n",
              "    </tr>\n",
              "    <tr>\n",
              "      <th>2022-11-02</th>\n",
              "      <td>91.110001</td>\n",
              "      <td>90.776138</td>\n",
              "    </tr>\n",
              "    <tr>\n",
              "      <th>2022-11-03</th>\n",
              "      <td>90.529999</td>\n",
              "      <td>90.097710</td>\n",
              "    </tr>\n",
              "    <tr>\n",
              "      <th>2022-11-04</th>\n",
              "      <td>94.169998</td>\n",
              "      <td>89.552391</td>\n",
              "    </tr>\n",
              "    <tr>\n",
              "      <th>2022-11-07</th>\n",
              "      <td>94.690002</td>\n",
              "      <td>92.372200</td>\n",
              "    </tr>\n",
              "    <tr>\n",
              "      <th>2022-11-08</th>\n",
              "      <td>95.690002</td>\n",
              "      <td>93.535599</td>\n",
              "    </tr>\n",
              "    <tr>\n",
              "      <th>2022-11-09</th>\n",
              "      <td>93.610001</td>\n",
              "      <td>94.337097</td>\n",
              "    </tr>\n",
              "    <tr>\n",
              "      <th>2022-11-10</th>\n",
              "      <td>98.629997</td>\n",
              "      <td>92.690269</td>\n",
              "    </tr>\n",
              "    <tr>\n",
              "      <th>2022-11-11</th>\n",
              "      <td>100.160004</td>\n",
              "      <td>96.092751</td>\n",
              "    </tr>\n",
              "    <tr>\n",
              "      <th>2022-11-14</th>\n",
              "      <td>99.279999</td>\n",
              "      <td>98.168617</td>\n",
              "    </tr>\n",
              "    <tr>\n",
              "      <th>2022-11-15</th>\n",
              "      <td>99.610001</td>\n",
              "      <td>97.616646</td>\n",
              "    </tr>\n",
              "    <tr>\n",
              "      <th>2022-11-16</th>\n",
              "      <td>98.849998</td>\n",
              "      <td>97.450104</td>\n",
              "    </tr>\n",
              "    <tr>\n",
              "      <th>2022-11-17</th>\n",
              "      <td>98.440002</td>\n",
              "      <td>96.762024</td>\n",
              "    </tr>\n",
              "    <tr>\n",
              "      <th>2022-11-18</th>\n",
              "      <td>98.790001</td>\n",
              "      <td>96.290390</td>\n",
              "    </tr>\n",
              "    <tr>\n",
              "      <th>2022-11-21</th>\n",
              "      <td>97.419998</td>\n",
              "      <td>96.552505</td>\n",
              "    </tr>\n",
              "    <tr>\n",
              "      <th>2022-11-22</th>\n",
              "      <td>98.709999</td>\n",
              "      <td>95.632874</td>\n",
              "    </tr>\n",
              "    <tr>\n",
              "      <th>2022-11-23</th>\n",
              "      <td>99.379997</td>\n",
              "      <td>96.473808</td>\n",
              "    </tr>\n",
              "    <tr>\n",
              "      <th>2022-11-25</th>\n",
              "      <td>99.330002</td>\n",
              "      <td>97.306351</td>\n",
              "    </tr>\n",
              "    <tr>\n",
              "      <th>2022-11-28</th>\n",
              "      <td>96.320000</td>\n",
              "      <td>97.410393</td>\n",
              "    </tr>\n",
              "    <tr>\n",
              "      <th>2022-11-29</th>\n",
              "      <td>96.099998</td>\n",
              "      <td>94.972801</td>\n",
              "    </tr>\n",
              "    <tr>\n",
              "      <th>2022-11-30</th>\n",
              "      <td>97.830002</td>\n",
              "      <td>94.216957</td>\n",
              "    </tr>\n",
              "    <tr>\n",
              "      <th>2022-12-01</th>\n",
              "      <td>99.019997</td>\n",
              "      <td>95.637627</td>\n",
              "    </tr>\n",
              "    <tr>\n",
              "      <th>2022-12-02</th>\n",
              "      <td>99.839996</td>\n",
              "      <td>97.048866</td>\n",
              "    </tr>\n",
              "    <tr>\n",
              "      <th>2022-12-05</th>\n",
              "      <td>97.839996</td>\n",
              "      <td>97.925919</td>\n",
              "    </tr>\n",
              "    <tr>\n",
              "      <th>2022-12-06</th>\n",
              "      <td>94.550003</td>\n",
              "      <td>96.370987</td>\n",
              "    </tr>\n",
              "    <tr>\n",
              "      <th>2022-12-07</th>\n",
              "      <td>94.160004</td>\n",
              "      <td>93.290222</td>\n",
              "    </tr>\n",
              "    <tr>\n",
              "      <th>2022-12-08</th>\n",
              "      <td>92.559998</td>\n",
              "      <td>92.390610</td>\n",
              "    </tr>\n",
              "    <tr>\n",
              "      <th>2022-12-09</th>\n",
              "      <td>92.430000</td>\n",
              "      <td>91.282181</td>\n",
              "    </tr>\n",
              "    <tr>\n",
              "      <th>2022-12-12</th>\n",
              "      <td>91.820000</td>\n",
              "      <td>91.149437</td>\n",
              "    </tr>\n",
              "    <tr>\n",
              "      <th>2022-12-13</th>\n",
              "      <td>90.660004</td>\n",
              "      <td>90.852196</td>\n",
              "    </tr>\n",
              "    <tr>\n",
              "      <th>2022-12-14</th>\n",
              "      <td>90.190002</td>\n",
              "      <td>89.970161</td>\n",
              "    </tr>\n",
              "    <tr>\n",
              "      <th>2022-12-15</th>\n",
              "      <td>88.349998</td>\n",
              "      <td>89.457817</td>\n",
              "    </tr>\n",
              "    <tr>\n",
              "      <th>2022-12-16</th>\n",
              "      <td>88.040001</td>\n",
              "      <td>88.009140</td>\n",
              "    </tr>\n",
              "    <tr>\n",
              "      <th>2022-12-19</th>\n",
              "      <td>87.940002</td>\n",
              "      <td>87.500641</td>\n",
              "    </tr>\n",
              "    <tr>\n",
              "      <th>2022-12-20</th>\n",
              "      <td>89.389999</td>\n",
              "      <td>87.466370</td>\n",
              "    </tr>\n",
              "    <tr>\n",
              "      <th>2022-12-21</th>\n",
              "      <td>90.519997</td>\n",
              "      <td>88.678322</td>\n",
              "    </tr>\n",
              "    <tr>\n",
              "      <th>2022-12-22</th>\n",
              "      <td>89.489998</td>\n",
              "      <td>89.870171</td>\n",
              "    </tr>\n",
              "    <tr>\n",
              "      <th>2022-12-23</th>\n",
              "      <td>90.300003</td>\n",
              "      <td>89.219940</td>\n",
              "    </tr>\n",
              "    <tr>\n",
              "      <th>2022-12-27</th>\n",
              "      <td>90.730003</td>\n",
              "      <td>89.513672</td>\n",
              "    </tr>\n",
              "    <tr>\n",
              "      <th>2022-12-28</th>\n",
              "      <td>89.629997</td>\n",
              "      <td>89.902306</td>\n",
              "    </tr>\n",
              "    <tr>\n",
              "      <th>2022-12-29</th>\n",
              "      <td>91.190002</td>\n",
              "      <td>89.087105</td>\n",
              "    </tr>\n",
              "    <tr>\n",
              "      <th>2022-12-30</th>\n",
              "      <td>90.599998</td>\n",
              "      <td>90.048981</td>\n",
              "    </tr>\n",
              "    <tr>\n",
              "      <th>2023-01-03</th>\n",
              "      <td>91.040001</td>\n",
              "      <td>89.878242</td>\n",
              "    </tr>\n",
              "    <tr>\n",
              "      <th>2023-01-04</th>\n",
              "      <td>93.629997</td>\n",
              "      <td>90.102692</td>\n",
              "    </tr>\n",
              "    <tr>\n",
              "      <th>2023-01-05</th>\n",
              "      <td>92.790001</td>\n",
              "      <td>92.171364</td>\n",
              "    </tr>\n",
              "    <tr>\n",
              "      <th>2023-01-06</th>\n",
              "      <td>95.129997</td>\n",
              "      <td>91.966423</td>\n",
              "    </tr>\n",
              "    <tr>\n",
              "      <th>2023-01-09</th>\n",
              "      <td>95.400002</td>\n",
              "      <td>93.527397</td>\n",
              "    </tr>\n",
              "    <tr>\n",
              "      <th>2023-01-10</th>\n",
              "      <td>95.089996</td>\n",
              "      <td>94.039902</td>\n",
              "    </tr>\n",
              "  </tbody>\n",
              "</table>\n",
              "</div>\n",
              "      <button class=\"colab-df-convert\" onclick=\"convertToInteractive('df-a6993eb2-f56d-45e3-a2e5-d08ae625c002')\"\n",
              "              title=\"Convert this dataframe to an interactive table.\"\n",
              "              style=\"display:none;\">\n",
              "        \n",
              "  <svg xmlns=\"http://www.w3.org/2000/svg\" height=\"24px\"viewBox=\"0 0 24 24\"\n",
              "       width=\"24px\">\n",
              "    <path d=\"M0 0h24v24H0V0z\" fill=\"none\"/>\n",
              "    <path d=\"M18.56 5.44l.94 2.06.94-2.06 2.06-.94-2.06-.94-.94-2.06-.94 2.06-2.06.94zm-11 1L8.5 8.5l.94-2.06 2.06-.94-2.06-.94L8.5 2.5l-.94 2.06-2.06.94zm10 10l.94 2.06.94-2.06 2.06-.94-2.06-.94-.94-2.06-.94 2.06-2.06.94z\"/><path d=\"M17.41 7.96l-1.37-1.37c-.4-.4-.92-.59-1.43-.59-.52 0-1.04.2-1.43.59L10.3 9.45l-7.72 7.72c-.78.78-.78 2.05 0 2.83L4 21.41c.39.39.9.59 1.41.59.51 0 1.02-.2 1.41-.59l7.78-7.78 2.81-2.81c.8-.78.8-2.07 0-2.86zM5.41 20L4 18.59l7.72-7.72 1.47 1.35L5.41 20z\"/>\n",
              "  </svg>\n",
              "      </button>\n",
              "      \n",
              "  <style>\n",
              "    .colab-df-container {\n",
              "      display:flex;\n",
              "      flex-wrap:wrap;\n",
              "      gap: 12px;\n",
              "    }\n",
              "\n",
              "    .colab-df-convert {\n",
              "      background-color: #E8F0FE;\n",
              "      border: none;\n",
              "      border-radius: 50%;\n",
              "      cursor: pointer;\n",
              "      display: none;\n",
              "      fill: #1967D2;\n",
              "      height: 32px;\n",
              "      padding: 0 0 0 0;\n",
              "      width: 32px;\n",
              "    }\n",
              "\n",
              "    .colab-df-convert:hover {\n",
              "      background-color: #E2EBFA;\n",
              "      box-shadow: 0px 1px 2px rgba(60, 64, 67, 0.3), 0px 1px 3px 1px rgba(60, 64, 67, 0.15);\n",
              "      fill: #174EA6;\n",
              "    }\n",
              "\n",
              "    [theme=dark] .colab-df-convert {\n",
              "      background-color: #3B4455;\n",
              "      fill: #D2E3FC;\n",
              "    }\n",
              "\n",
              "    [theme=dark] .colab-df-convert:hover {\n",
              "      background-color: #434B5C;\n",
              "      box-shadow: 0px 1px 3px 1px rgba(0, 0, 0, 0.15);\n",
              "      filter: drop-shadow(0px 1px 2px rgba(0, 0, 0, 0.3));\n",
              "      fill: #FFFFFF;\n",
              "    }\n",
              "  </style>\n",
              "\n",
              "      <script>\n",
              "        const buttonEl =\n",
              "          document.querySelector('#df-a6993eb2-f56d-45e3-a2e5-d08ae625c002 button.colab-df-convert');\n",
              "        buttonEl.style.display =\n",
              "          google.colab.kernel.accessAllowed ? 'block' : 'none';\n",
              "\n",
              "        async function convertToInteractive(key) {\n",
              "          const element = document.querySelector('#df-a6993eb2-f56d-45e3-a2e5-d08ae625c002');\n",
              "          const dataTable =\n",
              "            await google.colab.kernel.invokeFunction('convertToInteractive',\n",
              "                                                     [key], {});\n",
              "          if (!dataTable) return;\n",
              "\n",
              "          const docLinkHtml = 'Like what you see? Visit the ' +\n",
              "            '<a target=\"_blank\" href=https://colab.research.google.com/notebooks/data_table.ipynb>data table notebook</a>'\n",
              "            + ' to learn more about interactive tables.';\n",
              "          element.innerHTML = '';\n",
              "          dataTable['output_type'] = 'display_data';\n",
              "          await google.colab.output.renderOutput(dataTable, element);\n",
              "          const docLink = document.createElement('div');\n",
              "          docLink.innerHTML = docLinkHtml;\n",
              "          element.appendChild(docLink);\n",
              "        }\n",
              "      </script>\n",
              "    </div>\n",
              "  </div>\n",
              "  "
            ]
          },
          "metadata": {},
          "execution_count": 28
        }
      ]
    },
    {
      "cell_type": "code",
      "source": [],
      "metadata": {
        "id": "iwIzxw8Q-9eX"
      },
      "execution_count": null,
      "outputs": []
    }
  ]
}